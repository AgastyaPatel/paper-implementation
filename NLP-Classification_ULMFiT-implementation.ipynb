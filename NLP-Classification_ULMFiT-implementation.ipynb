{
 "cells": [
  {
   "cell_type": "code",
   "execution_count": 1,
   "id": "4ee97814",
   "metadata": {
    "_cell_guid": "b1076dfc-b9ad-4769-8c92-a6c4dae69d19",
    "_uuid": "8f2839f25d086af736a60e9eeb907d3b93b6e0e5",
    "execution": {
     "iopub.execute_input": "2024-02-14T04:08:46.086879Z",
     "iopub.status.busy": "2024-02-14T04:08:46.086526Z",
     "iopub.status.idle": "2024-02-14T04:08:46.805501Z",
     "shell.execute_reply": "2024-02-14T04:08:46.804750Z"
    },
    "papermill": {
     "duration": 0.733699,
     "end_time": "2024-02-14T04:08:46.807835",
     "exception": false,
     "start_time": "2024-02-14T04:08:46.074136",
     "status": "completed"
    },
    "tags": []
   },
   "outputs": [],
   "source": [
    "# This Python 3 environment comes with many helpful analytics libraries installed\n",
    "# It is defined by the kaggle/python Docker image: https://github.com/kaggle/docker-python\n",
    "# For example, here's several helpful packages to load\n",
    "\n",
    "import numpy as np # linear algebra\n",
    "import pandas as pd # data processing, CSV file I/O (e.g. pd.read_csv)\n",
    "\n",
    "# Input data files are available in the read-only \"../input/\" directory\n",
    "# For example, running this (by clicking run or pressing Shift+Enter) will list all files under the input directory\n",
    "\n",
    "import os\n",
    "for dirname, _, filenames in os.walk('/kaggle/input'):\n",
    "    for filename in filenames:\n",
    "        print(os.path.join(dirname, filename))\n",
    "\n",
    "# You can write up to 20GB to the current directory (/kaggle/working/) that gets preserved as output when you create a version using \"Save & Run All\" \n",
    "# You can also write temporary files to /kaggle/temp/, but they won't be saved outside of the current session"
   ]
  },
  {
   "cell_type": "markdown",
   "id": "4b2c9d24",
   "metadata": {
    "papermill": {
     "duration": 0.010068,
     "end_time": "2024-02-14T04:08:46.829117",
     "exception": false,
     "start_time": "2024-02-14T04:08:46.819049",
     "status": "completed"
    },
    "tags": []
   },
   "source": [
    "# ULMFit Paper:\n",
    "https://arxiv.org/abs/1801.06146 \\\n",
    "Main Idea:\n",
    "- To use finetuning of pretrained LM trained on large corpus of text and fine tune it to our selective domain of texts\n",
    "- This helps model to understand the text in our target domain more easier which can be used to fine tune again to achieve our final goal\n",
    "- Final goal may be text classification - Sentimental Analysis, Author Identification, Court discoveries etc.\n",
    "\n",
    "## Dataset Used\n",
    "- IMDb Review Dataset containing few thousands of movie reviews\n",
    "- Contains 25k Training and 25k for testing.\n",
    "- Contains seperate folder for negative and positive reviews in each training and testing folders."
   ]
  },
  {
   "cell_type": "markdown",
   "id": "6072ac06",
   "metadata": {
    "papermill": {
     "duration": 0.01008,
     "end_time": "2024-02-14T04:08:46.849509",
     "exception": false,
     "start_time": "2024-02-14T04:08:46.839429",
     "status": "completed"
    },
    "tags": []
   },
   "source": [
    "# Using Highlevel API to fine tune a pretrained model directly to IMDb sentiment classifier"
   ]
  },
  {
   "cell_type": "code",
   "execution_count": 2,
   "id": "b7974bcf",
   "metadata": {
    "execution": {
     "iopub.execute_input": "2024-02-14T04:08:46.872704Z",
     "iopub.status.busy": "2024-02-14T04:08:46.871749Z",
     "iopub.status.idle": "2024-02-14T04:08:53.002927Z",
     "shell.execute_reply": "2024-02-14T04:08:53.001687Z"
    },
    "papermill": {
     "duration": 6.146712,
     "end_time": "2024-02-14T04:08:53.006407",
     "exception": false,
     "start_time": "2024-02-14T04:08:46.859695",
     "status": "completed"
    },
    "tags": []
   },
   "outputs": [],
   "source": [
    "from fastai.text.all import *"
   ]
  },
  {
   "cell_type": "code",
   "execution_count": 3,
   "id": "6b214c13",
   "metadata": {
    "execution": {
     "iopub.execute_input": "2024-02-14T04:08:53.029541Z",
     "iopub.status.busy": "2024-02-14T04:08:53.028554Z",
     "iopub.status.idle": "2024-02-14T04:09:29.306098Z",
     "shell.execute_reply": "2024-02-14T04:09:29.305076Z"
    },
    "papermill": {
     "duration": 36.302302,
     "end_time": "2024-02-14T04:09:29.319570",
     "exception": false,
     "start_time": "2024-02-14T04:08:53.017268",
     "status": "completed"
    },
    "tags": []
   },
   "outputs": [
    {
     "data": {
      "text/html": [
       "\n",
       "<style>\n",
       "    /* Turns off some styling */\n",
       "    progress {\n",
       "        /* gets rid of default border in Firefox and Opera. */\n",
       "        border: none;\n",
       "        /* Needs to be in here for Safari polyfill so background images work as expected. */\n",
       "        background-size: auto;\n",
       "    }\n",
       "    progress:not([value]), progress:not([value])::-webkit-progress-bar {\n",
       "        background: repeating-linear-gradient(45deg, #7e7e7e, #7e7e7e 10px, #5c5c5c 10px, #5c5c5c 20px);\n",
       "    }\n",
       "    .progress-bar-interrupted, .progress-bar-interrupted::-webkit-progress-bar {\n",
       "        background: #F44336;\n",
       "    }\n",
       "</style>\n"
      ],
      "text/plain": [
       "<IPython.core.display.HTML object>"
      ]
     },
     "metadata": {},
     "output_type": "display_data"
    },
    {
     "data": {
      "text/html": [
       "\n",
       "    <div>\n",
       "      <progress value='144441344' class='' max='144440600' style='width:300px; height:20px; vertical-align: middle;'></progress>\n",
       "      100.00% [144441344/144440600 00:09&lt;00:00]\n",
       "    </div>\n",
       "    "
      ],
      "text/plain": [
       "<IPython.core.display.HTML object>"
      ]
     },
     "metadata": {},
     "output_type": "display_data"
    },
    {
     "data": {
      "text/plain": [
       "(#7) [Path('/root/.fastai/data/imdb/imdb.vocab'),Path('/root/.fastai/data/imdb/README'),Path('/root/.fastai/data/imdb/unsup'),Path('/root/.fastai/data/imdb/test'),Path('/root/.fastai/data/imdb/tmp_lm'),Path('/root/.fastai/data/imdb/train'),Path('/root/.fastai/data/imdb/tmp_clas')]"
      ]
     },
     "execution_count": 3,
     "metadata": {},
     "output_type": "execute_result"
    }
   ],
   "source": [
    "imdbPath = untar_data(URLs.IMDB)\n",
    "imdbPath.ls()"
   ]
  },
  {
   "cell_type": "code",
   "execution_count": 4,
   "id": "8932696e",
   "metadata": {
    "execution": {
     "iopub.execute_input": "2024-02-14T04:09:29.344400Z",
     "iopub.status.busy": "2024-02-14T04:09:29.344075Z",
     "iopub.status.idle": "2024-02-14T04:09:29.350612Z",
     "shell.execute_reply": "2024-02-14T04:09:29.349747Z"
    },
    "papermill": {
     "duration": 0.021181,
     "end_time": "2024-02-14T04:09:29.352662",
     "exception": false,
     "start_time": "2024-02-14T04:09:29.331481",
     "status": "completed"
    },
    "tags": []
   },
   "outputs": [
    {
     "data": {
      "text/plain": [
       "(#4) [Path('/root/.fastai/data/imdb/train/neg'),Path('/root/.fastai/data/imdb/train/unsupBow.feat'),Path('/root/.fastai/data/imdb/train/labeledBow.feat'),Path('/root/.fastai/data/imdb/train/pos')]"
      ]
     },
     "execution_count": 4,
     "metadata": {},
     "output_type": "execute_result"
    }
   ],
   "source": [
    "(imdbPath/'train').ls()"
   ]
  },
  {
   "cell_type": "code",
   "execution_count": 5,
   "id": "8575b670",
   "metadata": {
    "execution": {
     "iopub.execute_input": "2024-02-14T04:09:29.375627Z",
     "iopub.status.busy": "2024-02-14T04:09:29.375308Z",
     "iopub.status.idle": "2024-02-14T04:14:20.199556Z",
     "shell.execute_reply": "2024-02-14T04:14:20.198590Z"
    },
    "papermill": {
     "duration": 290.838019,
     "end_time": "2024-02-14T04:14:20.201837",
     "exception": false,
     "start_time": "2024-02-14T04:09:29.363818",
     "status": "completed"
    },
    "tags": []
   },
   "outputs": [
    {
     "data": {
      "text/html": [
       "\n",
       "<style>\n",
       "    /* Turns off some styling */\n",
       "    progress {\n",
       "        /* gets rid of default border in Firefox and Opera. */\n",
       "        border: none;\n",
       "        /* Needs to be in here for Safari polyfill so background images work as expected. */\n",
       "        background-size: auto;\n",
       "    }\n",
       "    progress:not([value]), progress:not([value])::-webkit-progress-bar {\n",
       "        background: repeating-linear-gradient(45deg, #7e7e7e, #7e7e7e 10px, #5c5c5c 10px, #5c5c5c 20px);\n",
       "    }\n",
       "    .progress-bar-interrupted, .progress-bar-interrupted::-webkit-progress-bar {\n",
       "        background: #F44336;\n",
       "    }\n",
       "</style>\n"
      ],
      "text/plain": [
       "<IPython.core.display.HTML object>"
      ]
     },
     "metadata": {},
     "output_type": "display_data"
    },
    {
     "data": {
      "text/html": [],
      "text/plain": [
       "<IPython.core.display.HTML object>"
      ]
     },
     "metadata": {},
     "output_type": "display_data"
    }
   ],
   "source": [
    "dls = TextDataLoaders.from_folder(imdbPath, valid='test')"
   ]
  },
  {
   "cell_type": "code",
   "execution_count": 6,
   "id": "96aef4a0",
   "metadata": {
    "execution": {
     "iopub.execute_input": "2024-02-14T04:14:20.226449Z",
     "iopub.status.busy": "2024-02-14T04:14:20.225502Z",
     "iopub.status.idle": "2024-02-14T04:14:20.725685Z",
     "shell.execute_reply": "2024-02-14T04:14:20.724747Z"
    },
    "papermill": {
     "duration": 0.514419,
     "end_time": "2024-02-14T04:14:20.727698",
     "exception": false,
     "start_time": "2024-02-14T04:14:20.213279",
     "status": "completed"
    },
    "tags": []
   },
   "outputs": [
    {
     "data": {
      "text/html": [
       "<table border=\"1\" class=\"dataframe\">\n",
       "  <thead>\n",
       "    <tr style=\"text-align: right;\">\n",
       "      <th></th>\n",
       "      <th>text</th>\n",
       "      <th>category</th>\n",
       "    </tr>\n",
       "  </thead>\n",
       "  <tbody>\n",
       "    <tr>\n",
       "      <th>0</th>\n",
       "      <td>xxbos xxmaj match 1 : xxmaj tag xxmaj team xxmaj table xxmaj match xxmaj bubba xxmaj ray and xxmaj spike xxmaj dudley vs xxmaj eddie xxmaj guerrero and xxmaj chris xxmaj benoit xxmaj bubba xxmaj ray and xxmaj spike xxmaj dudley started things off with a xxmaj tag xxmaj team xxmaj table xxmaj match against xxmaj eddie xxmaj guerrero and xxmaj chris xxmaj benoit . xxmaj according to the rules of the match , both opponents have to go through tables in order to get the win . xxmaj benoit and xxmaj guerrero heated up early on by taking turns hammering first xxmaj spike and then xxmaj bubba xxmaj ray . a xxmaj german xxunk by xxmaj benoit to xxmaj bubba took the wind out of the xxmaj dudley brother . xxmaj spike tried to help his brother , but the referee restrained him while xxmaj benoit and xxmaj guerrero</td>\n",
       "      <td>pos</td>\n",
       "    </tr>\n",
       "    <tr>\n",
       "      <th>1</th>\n",
       "      <td>xxbos xxmaj warning : xxmaj does contain spoilers . \\n\\n xxmaj open xxmaj your xxmaj eyes \\n\\n xxmaj if you have not seen this film and plan on doing so , just stop reading here and take my word for it . xxmaj you have to see this film . i have seen it four times so far and i still have n't made up my mind as to what exactly happened in the film . xxmaj that is all i am going to say because if you have not seen this film , then stop reading right now . \\n\\n xxmaj if you are still reading then i am going to pose some questions to you and maybe if anyone has any answers you can email me and let me know what you think . \\n\\n i remember my xxmaj grade 11 xxmaj english teacher quite well . xxmaj</td>\n",
       "      <td>pos</td>\n",
       "    </tr>\n",
       "    <tr>\n",
       "      <th>2</th>\n",
       "      <td>xxbos xxmaj okay , so xxmaj i 'm not a big video game buff , but was the game xxmaj house of the xxmaj dead really famous enough to make a movie from ? xxmaj sure , they went as far as to actually put in quick video game clips throughout the movie , as though justifying any particular scene of violence , but there are dozens and dozens of games that look exactly the same , with the hand in the bottom on the screen , supposedly your own , holding whatever weapon and goo - ing all kinds of aliens or walking dead or snipers or whatever the case may be . \\n\\n xxmaj it 's an interesting premise in xxmaj house of the xxmaj dead , with a lot of college kids ( loaded college kids , as it were , kids who are able to pay</td>\n",
       "      <td>neg</td>\n",
       "    </tr>\n",
       "    <tr>\n",
       "      <th>3</th>\n",
       "      <td>xxbos xxmaj the premise of this movie has been tickling my imagination for quite some time now . xxmaj we 've all heard or read about it in some kind of con - text . xxmaj what would you do if you were all alone in the world ? xxmaj what would you do if the entire world suddenly disappeared in front of your eyes ? xxmaj in fact , the last part is actually what happens to xxmaj dave and xxmaj andrew , two room - mates living in a run - down house in the middle of a freeway system . xxmaj andrew is a nervous wreck to say the least and xxmaj dave is considered being one of the biggest losers of society . xxmaj that alone is the main reason to why these two guys get so well along , because they simply only have each</td>\n",
       "      <td>pos</td>\n",
       "    </tr>\n",
       "    <tr>\n",
       "      <th>4</th>\n",
       "      <td>xxbos xxmaj director xxmaj douglas xxmaj sirk once said ` there 's a very short distance between high art and trash , and trash that contains craziness is by this very quality nearer to art ' . xxmaj this statement defines his cinema perfectly , a very unique body of work that includes classic stage adaptations , adventure and war films , westerns and of course , his famous melodramas . \\n\\n xxmaj sirk 's melodramas were , as the very word signifies , dramas with music . xxmaj the music sets the tone for his masterful style , and every stroke of his brush ( sirk was also a painter ) leaves a powerful image on the screen - turned - canvas . xxmaj but this ai n't life but its representation , an imitation of life . xxmaj sirk never tried to show reality , on the contrary</td>\n",
       "      <td>pos</td>\n",
       "    </tr>\n",
       "    <tr>\n",
       "      <th>5</th>\n",
       "      <td>xxbos xxmaj chris xxmaj rock deserves better than he gives himself in \" down xxmaj to xxmaj earth . \" xxmaj as directed by brothers xxmaj chris &amp; xxmaj paul xxmaj weitz of \" american xxmaj pie \" fame , this uninspired remake of xxmaj warren xxmaj beatty 's 1978 fantasy \" heaven xxmaj can xxmaj wait , \" itself a rehash of 1941 's \" here xxmaj comes xxmaj mr . xxmaj jordan , \" lacks the xxunk profane humor that won xxmaj chris xxmaj rock an xxmaj emmy for his first xxup hbo special . xxmaj predictably , he spouts swear words from a to xxup z , but he consciously avoids the xxmaj f - word . xxmaj anybody who saw this gifted african - american comic in \" lethal xxmaj weapon 4 , \" \" dogma , \" or \" nurse xxmaj betty \" knows he</td>\n",
       "      <td>neg</td>\n",
       "    </tr>\n",
       "    <tr>\n",
       "      <th>6</th>\n",
       "      <td>xxbos xxmaj god ! xxmaj zorro has been the the subject of about as many movies as xxmaj tarzan , and probably had about as many actors in the title role . \\n\\n xxmaj this xxmaj serial is one of my own personal favourites , and as previously stated , it is one of the xxmaj top 5 xxmaj sound xxmaj serials . xxmaj oddly enough , this is one production that came out in that water shed year of 1939 . * xxmaj by the time of this production in ' 39 , xxmaj zorro was really well known as a ( pulp ) literary and movie character . xxmaj the film opens up with a little foot note about the xxmaj history of the xxmaj mexico 's struggle for freedom from rule by a xxmaj european xxmaj monarchy , namely xxmaj spain . xxmaj the story invites comparison</td>\n",
       "      <td>pos</td>\n",
       "    </tr>\n",
       "    <tr>\n",
       "      <th>7</th>\n",
       "      <td>xxbos xxup warning : xxup possible xxup spoilers ( but not really - keep reading ) . a xxrep 3 h , there are so many reasons to become utterly addicted to this spoof gem that i wo n't have room to list them all . xxmaj the opening credits set the playful scene with kitsch late 1950s cartoon stills ; an enchanting xxmaj xxunk ' prez ' xxmaj xxunk mambo theme which appears to be curiously uncredited ( but his grunts are unmistakable , and no - one else did them ) ; and with familiar cast names , including xxmaj kathy xxmaj xxunk a full year before she hit with xxmaj sister xxmaj acts 1 &amp; 2 plus xxmaj teri xxmaj hatcher from tv 's xxmaj superman . \\n\\n xxmaj every scene is imbued with shallow injustices flung at various actors , actresses and producers in daytime xxup</td>\n",
       "      <td>pos</td>\n",
       "    </tr>\n",
       "    <tr>\n",
       "      <th>8</th>\n",
       "      <td>xxbos xxmaj it is not as great a film as many people believe ( including my late aunt , who said it was her favorite movie ) . xxmaj but due to the better sections of this film noir , particularly that justifiably famous \" fun house \" finale , xxup the xxup lady xxup from xxup shanghai has gained a position of importance beyond it 's actual worth as a key to the saga of xxmaj orson xxmaj welles ' failure to conquer xxmaj hollywood . \\n\\n xxmaj by 1946 xxmaj welles ' position as a xxmaj hollywood figure was mixed . xxup citizen xxup kane was not recognized as the great movie it has since been seen as due to the way it was attacked by the xxmaj hearst press and by xxmaj hollywood insiders themselves . xxmaj welles ' attempt at total control ( direction and production</td>\n",
       "      <td>pos</td>\n",
       "    </tr>\n",
       "  </tbody>\n",
       "</table>"
      ],
      "text/plain": [
       "<IPython.core.display.HTML object>"
      ]
     },
     "metadata": {},
     "output_type": "display_data"
    }
   ],
   "source": [
    "dls.show_batch()"
   ]
  },
  {
   "cell_type": "markdown",
   "id": "6bfa2c1c",
   "metadata": {
    "papermill": {
     "duration": 0.011066,
     "end_time": "2024-02-14T04:14:20.750355",
     "exception": false,
     "start_time": "2024-02-14T04:14:20.739289",
     "status": "completed"
    },
    "tags": []
   },
   "source": [
    "xxbos and xxmaj are added during tokenization so that it help the model identify the 'beginning of the string' and 'captialization of the next word"
   ]
  },
  {
   "cell_type": "code",
   "execution_count": 7,
   "id": "8e9f512b",
   "metadata": {
    "execution": {
     "iopub.execute_input": "2024-02-14T04:14:20.774318Z",
     "iopub.status.busy": "2024-02-14T04:14:20.773992Z",
     "iopub.status.idle": "2024-02-14T04:14:32.709100Z",
     "shell.execute_reply": "2024-02-14T04:14:32.708321Z"
    },
    "papermill": {
     "duration": 11.949672,
     "end_time": "2024-02-14T04:14:32.711281",
     "exception": false,
     "start_time": "2024-02-14T04:14:20.761609",
     "status": "completed"
    },
    "tags": []
   },
   "outputs": [
    {
     "data": {
      "text/html": [
       "\n",
       "<style>\n",
       "    /* Turns off some styling */\n",
       "    progress {\n",
       "        /* gets rid of default border in Firefox and Opera. */\n",
       "        border: none;\n",
       "        /* Needs to be in here for Safari polyfill so background images work as expected. */\n",
       "        background-size: auto;\n",
       "    }\n",
       "    progress:not([value]), progress:not([value])::-webkit-progress-bar {\n",
       "        background: repeating-linear-gradient(45deg, #7e7e7e, #7e7e7e 10px, #5c5c5c 10px, #5c5c5c 20px);\n",
       "    }\n",
       "    .progress-bar-interrupted, .progress-bar-interrupted::-webkit-progress-bar {\n",
       "        background: #F44336;\n",
       "    }\n",
       "</style>\n"
      ],
      "text/plain": [
       "<IPython.core.display.HTML object>"
      ]
     },
     "metadata": {},
     "output_type": "display_data"
    },
    {
     "data": {
      "text/html": [
       "\n",
       "    <div>\n",
       "      <progress value='105070592' class='' max='105067061' style='width:300px; height:20px; vertical-align: middle;'></progress>\n",
       "      100.00% [105070592/105067061 00:07&lt;00:00]\n",
       "    </div>\n",
       "    "
      ],
      "text/plain": [
       "<IPython.core.display.HTML object>"
      ]
     },
     "metadata": {},
     "output_type": "display_data"
    }
   ],
   "source": [
    "reviewLearner  = text_classifier_learner(dls, AWD_LSTM, drop_mult = 0.5, metrics = accuracy)"
   ]
  },
  {
   "cell_type": "code",
   "execution_count": 8,
   "id": "14e23958",
   "metadata": {
    "execution": {
     "iopub.execute_input": "2024-02-14T04:14:32.738849Z",
     "iopub.status.busy": "2024-02-14T04:14:32.738111Z",
     "iopub.status.idle": "2024-02-14T04:14:53.924507Z",
     "shell.execute_reply": "2024-02-14T04:14:53.923564Z"
    },
    "papermill": {
     "duration": 21.202743,
     "end_time": "2024-02-14T04:14:53.926985",
     "exception": false,
     "start_time": "2024-02-14T04:14:32.724242",
     "status": "completed"
    },
    "tags": []
   },
   "outputs": [
    {
     "data": {
      "text/html": [
       "\n",
       "<style>\n",
       "    /* Turns off some styling */\n",
       "    progress {\n",
       "        /* gets rid of default border in Firefox and Opera. */\n",
       "        border: none;\n",
       "        /* Needs to be in here for Safari polyfill so background images work as expected. */\n",
       "        background-size: auto;\n",
       "    }\n",
       "    progress:not([value]), progress:not([value])::-webkit-progress-bar {\n",
       "        background: repeating-linear-gradient(45deg, #7e7e7e, #7e7e7e 10px, #5c5c5c 10px, #5c5c5c 20px);\n",
       "    }\n",
       "    .progress-bar-interrupted, .progress-bar-interrupted::-webkit-progress-bar {\n",
       "        background: #F44336;\n",
       "    }\n",
       "</style>\n"
      ],
      "text/plain": [
       "<IPython.core.display.HTML object>"
      ]
     },
     "metadata": {},
     "output_type": "display_data"
    },
    {
     "data": {
      "text/html": [],
      "text/plain": [
       "<IPython.core.display.HTML object>"
      ]
     },
     "metadata": {},
     "output_type": "display_data"
    },
    {
     "data": {
      "image/png": "[encoded data removed]",
      "text/plain": [
       "<Figure size 640x480 with 1 Axes>"
      ]
     },
     "metadata": {},
     "output_type": "display_data"
    }
   ],
   "source": [
    "lr = reviewLearner.lr_find(suggest_funcs = (steep, valley))"
   ]
  },
  {
   "cell_type": "code",
   "execution_count": 9,
   "id": "addb9c6a",
   "metadata": {
    "execution": {
     "iopub.execute_input": "2024-02-14T04:14:53.957249Z",
     "iopub.status.busy": "2024-02-14T04:14:53.956847Z",
     "iopub.status.idle": "2024-02-14T04:37:34.523775Z",
     "shell.execute_reply": "2024-02-14T04:37:34.522866Z"
    },
    "papermill": {
     "duration": 1360.582713,
     "end_time": "2024-02-14T04:37:34.525710",
     "exception": false,
     "start_time": "2024-02-14T04:14:53.942997",
     "status": "completed"
    },
    "tags": []
   },
   "outputs": [
    {
     "data": {
      "text/html": [
       "\n",
       "<style>\n",
       "    /* Turns off some styling */\n",
       "    progress {\n",
       "        /* gets rid of default border in Firefox and Opera. */\n",
       "        border: none;\n",
       "        /* Needs to be in here for Safari polyfill so background images work as expected. */\n",
       "        background-size: auto;\n",
       "    }\n",
       "    progress:not([value]), progress:not([value])::-webkit-progress-bar {\n",
       "        background: repeating-linear-gradient(45deg, #7e7e7e, #7e7e7e 10px, #5c5c5c 10px, #5c5c5c 20px);\n",
       "    }\n",
       "    .progress-bar-interrupted, .progress-bar-interrupted::-webkit-progress-bar {\n",
       "        background: #F44336;\n",
       "    }\n",
       "</style>\n"
      ],
      "text/plain": [
       "<IPython.core.display.HTML object>"
      ]
     },
     "metadata": {},
     "output_type": "display_data"
    },
    {
     "data": {
      "text/html": [
       "<table border=\"1\" class=\"dataframe\">\n",
       "  <thead>\n",
       "    <tr style=\"text-align: left;\">\n",
       "      <th>epoch</th>\n",
       "      <th>train_loss</th>\n",
       "      <th>valid_loss</th>\n",
       "      <th>accuracy</th>\n",
       "      <th>time</th>\n",
       "    </tr>\n",
       "  </thead>\n",
       "  <tbody>\n",
       "    <tr>\n",
       "      <td>0</td>\n",
       "      <td>0.456287</td>\n",
       "      <td>0.388044</td>\n",
       "      <td>0.825080</td>\n",
       "      <td>02:11</td>\n",
       "    </tr>\n",
       "  </tbody>\n",
       "</table>"
      ],
      "text/plain": [
       "<IPython.core.display.HTML object>"
      ]
     },
     "metadata": {},
     "output_type": "display_data"
    },
    {
     "data": {
      "text/html": [
       "\n",
       "<style>\n",
       "    /* Turns off some styling */\n",
       "    progress {\n",
       "        /* gets rid of default border in Firefox and Opera. */\n",
       "        border: none;\n",
       "        /* Needs to be in here for Safari polyfill so background images work as expected. */\n",
       "        background-size: auto;\n",
       "    }\n",
       "    progress:not([value]), progress:not([value])::-webkit-progress-bar {\n",
       "        background: repeating-linear-gradient(45deg, #7e7e7e, #7e7e7e 10px, #5c5c5c 10px, #5c5c5c 20px);\n",
       "    }\n",
       "    .progress-bar-interrupted, .progress-bar-interrupted::-webkit-progress-bar {\n",
       "        background: #F44336;\n",
       "    }\n",
       "</style>\n"
      ],
      "text/plain": [
       "<IPython.core.display.HTML object>"
      ]
     },
     "metadata": {},
     "output_type": "display_data"
    },
    {
     "data": {
      "text/html": [
       "<table border=\"1\" class=\"dataframe\">\n",
       "  <thead>\n",
       "    <tr style=\"text-align: left;\">\n",
       "      <th>epoch</th>\n",
       "      <th>train_loss</th>\n",
       "      <th>valid_loss</th>\n",
       "      <th>accuracy</th>\n",
       "      <th>time</th>\n",
       "    </tr>\n",
       "  </thead>\n",
       "  <tbody>\n",
       "    <tr>\n",
       "      <td>0</td>\n",
       "      <td>0.373429</td>\n",
       "      <td>0.298217</td>\n",
       "      <td>0.875880</td>\n",
       "      <td>04:05</td>\n",
       "    </tr>\n",
       "    <tr>\n",
       "      <td>1</td>\n",
       "      <td>0.320478</td>\n",
       "      <td>0.270474</td>\n",
       "      <td>0.887440</td>\n",
       "      <td>04:05</td>\n",
       "    </tr>\n",
       "    <tr>\n",
       "      <td>2</td>\n",
       "      <td>0.294620</td>\n",
       "      <td>0.238898</td>\n",
       "      <td>0.903000</td>\n",
       "      <td>04:05</td>\n",
       "    </tr>\n",
       "    <tr>\n",
       "      <td>3</td>\n",
       "      <td>0.270932</td>\n",
       "      <td>0.232266</td>\n",
       "      <td>0.907400</td>\n",
       "      <td>04:05</td>\n",
       "    </tr>\n",
       "    <tr>\n",
       "      <td>4</td>\n",
       "      <td>0.234283</td>\n",
       "      <td>0.226021</td>\n",
       "      <td>0.910640</td>\n",
       "      <td>04:05</td>\n",
       "    </tr>\n",
       "  </tbody>\n",
       "</table>"
      ],
      "text/plain": [
       "<IPython.core.display.HTML object>"
      ]
     },
     "metadata": {},
     "output_type": "display_data"
    }
   ],
   "source": [
    "reviewLearner.fine_tune(5, lr.valley)"
   ]
  },
  {
   "cell_type": "code",
   "execution_count": 10,
   "id": "66def5f2",
   "metadata": {
    "execution": {
     "iopub.execute_input": "2024-02-14T04:37:34.554052Z",
     "iopub.status.busy": "2024-02-14T04:37:34.553726Z",
     "iopub.status.idle": "2024-02-14T04:37:36.222597Z",
     "shell.execute_reply": "2024-02-14T04:37:36.221595Z"
    },
    "papermill": {
     "duration": 1.68575,
     "end_time": "2024-02-14T04:37:36.225123",
     "exception": false,
     "start_time": "2024-02-14T04:37:34.539373",
     "status": "completed"
    },
    "tags": []
   },
   "outputs": [
    {
     "data": {
      "text/html": [
       "\n",
       "<style>\n",
       "    /* Turns off some styling */\n",
       "    progress {\n",
       "        /* gets rid of default border in Firefox and Opera. */\n",
       "        border: none;\n",
       "        /* Needs to be in here for Safari polyfill so background images work as expected. */\n",
       "        background-size: auto;\n",
       "    }\n",
       "    progress:not([value]), progress:not([value])::-webkit-progress-bar {\n",
       "        background: repeating-linear-gradient(45deg, #7e7e7e, #7e7e7e 10px, #5c5c5c 10px, #5c5c5c 20px);\n",
       "    }\n",
       "    .progress-bar-interrupted, .progress-bar-interrupted::-webkit-progress-bar {\n",
       "        background: #F44336;\n",
       "    }\n",
       "</style>\n"
      ],
      "text/plain": [
       "<IPython.core.display.HTML object>"
      ]
     },
     "metadata": {},
     "output_type": "display_data"
    },
    {
     "data": {
      "text/html": [],
      "text/plain": [
       "<IPython.core.display.HTML object>"
      ]
     },
     "metadata": {},
     "output_type": "display_data"
    },
    {
     "data": {
      "text/html": [
       "<table border=\"1\" class=\"dataframe\">\n",
       "  <thead>\n",
       "    <tr style=\"text-align: right;\">\n",
       "      <th></th>\n",
       "      <th>text</th>\n",
       "      <th>category</th>\n",
       "      <th>category_</th>\n",
       "    </tr>\n",
       "  </thead>\n",
       "  <tbody>\n",
       "    <tr>\n",
       "      <th>0</th>\n",
       "      <td>xxbos xxmaj there 's a sign on xxmaj the xxmaj lost xxmaj highway that says : \\n\\n * major xxup spoilers xxup ahead * \\n\\n ( but you already knew that , did n't you ? ) \\n\\n xxmaj since there 's a great deal of people that apparently did not get the point of this movie , xxmaj i 'd like to contribute my interpretation of why the plot makes perfect sense . xxmaj as others have pointed out , one single viewing of this movie is not sufficient . xxmaj if you have the xxup dvd of xxup md , you can \" cheat \" by looking at xxmaj david xxmaj lynch 's \" top 10 xxmaj hints to xxmaj unlocking xxup md \" ( but only upon second or third viewing , please . ) ;) \\n\\n xxmaj first of all , xxmaj mulholland xxmaj drive is</td>\n",
       "      <td>pos</td>\n",
       "      <td>pos</td>\n",
       "    </tr>\n",
       "    <tr>\n",
       "      <th>1</th>\n",
       "      <td>xxbos xxmaj wrestlemania 6 , is an entertaining xxmaj wrestlemania , if not an entirely successful one . xxmaj the xxmaj ultimate xxmaj challenge , is of course worth the price of admission alone , but once again as with a lot of the early xxmaj mania 's , there 's too much filler in between . xxmaj the crowd pops for almost everything , and as always , giving us the reliable announcing team of xxunk xxmaj body . xxmaj having a xxmaj face vs xxmaj face match as the main event for a xxmaj wrestlemania , was absolutely unheard of at this time , it only made things that much more tense . \\n\\n xxmaj matches . \\n\\n xxmaj koko xxup b. xxmaj ware / w xxmaj frankie xxmaj vs \" the xxmaj model \" xxmaj rick xxmaj martel . xxmaj for a 3 or so minute match</td>\n",
       "      <td>pos</td>\n",
       "      <td>pos</td>\n",
       "    </tr>\n",
       "    <tr>\n",
       "      <th>2</th>\n",
       "      <td>xxbos i remember vacationing in xxmaj florida when this movie aired . i had set up my xxup vcr to record it . xxmaj the anticipation was killing me . i had known about the movie ever since it was announced some half a year earlier . xxmaj we came back from xxmaj florida 4 days after the movie aired , and i immediately watched it . i tried as hard as i could to like it , but i did n't . \\n\\n i am a xxup huge 3 stooges fan . xxmaj and as such i know quite a bit about them . xxmaj so it was n't like i was expecting to learn anything from the movie , and i did n't . i was more interested with the portrayals and seeing how accurate their information was . xxmaj there were many things wrong with this film</td>\n",
       "      <td>neg</td>\n",
       "      <td>neg</td>\n",
       "    </tr>\n",
       "    <tr>\n",
       "      <th>3</th>\n",
       "      <td>xxbos \" empire xxmaj strikes xxmaj back \" director xxmaj irvin xxmaj kershner 's \" never xxmaj say xxmaj never xxmaj again , \" a remake of the 1965 xxmaj james xxmaj bond movie \" thunderball , \" does n't surpasses the xxmaj terence xxmaj young original , but this non - harry xxmaj xxunk &amp; xxmaj albert xxup r. xxmaj broccoli film is well worth watching if you call yourself a 007 aficionado . xxmaj nevertheless , despite its shortage of clever gadgets and the lack of a vibrant musical score , \" never xxmaj say xxmaj never xxmaj again \" rates as an above - average , suspenseful doomsday thriller with top - flight performances by a seasoned cast including xxmaj sean xxmaj connery , xxmaj kim xxmaj basinger , xxmaj klaus xxmaj maria xxmaj brandauer , xxmaj max xxmaj von xxmaj sydow , xxmaj barbara xxmaj carrera</td>\n",
       "      <td>pos</td>\n",
       "      <td>neg</td>\n",
       "    </tr>\n",
       "    <tr>\n",
       "      <th>4</th>\n",
       "      <td>xxbos i was recently given this film on xxup dvd as a gift , and was unsure at first if it would appeal ( although one of my favourite actors has a leading role ) . xxmaj in fact , it 's on its way to becoming a favourite . \\n\\n xxmaj first of all : thankfully , it 's * not * the same as the book , the ending of which i think is excessively melodramatic . xxmaj secondly : it 's one of the best films xxmaj i 've seen about the xxmaj first xxmaj world xxmaj war . \" what ? \" you may ask . \" it 's not a war film ! \" xxmaj true : we see no battles or xxunk , no trenches , no gas . xxmaj but it shows the cost of war , the damage done to the lives</td>\n",
       "      <td>pos</td>\n",
       "      <td>pos</td>\n",
       "    </tr>\n",
       "    <tr>\n",
       "      <th>5</th>\n",
       "      <td>xxbos xxmaj it has been widely agreed that xxmaj hayao xxmaj miyazaki is a master at his craft when it comes to combining rich animation with thoughtful story lines and similarly imaginative characters . xxmaj his movies , from xxup nausicaa , xxup totoro , xxup kiki , xxup laputa , and xxup mononoke to the recent xxup howl 's xxup moving xxup castle are all not only gorgeously rendered in terms of art , but in terms of movie - making as well . xxmaj can this man do no wrong ? xxmaj not really , but it is impossible to expect everyone of his movies to always be five star marvels . xxmaj his newest film , xxup ponyo , an unashamedly family - friendly tale of a \" goldfish out of water \" , is as lushly animated and alive with interesting characters as you would expect</td>\n",
       "      <td>pos</td>\n",
       "      <td>pos</td>\n",
       "    </tr>\n",
       "    <tr>\n",
       "      <th>6</th>\n",
       "      <td>xxbos i do not think i am alone when i say that 2005 has not been particularly kind to the horror genre . xxmaj while \" cursed \" , \" hide and xxmaj seek \" , \" the xxmaj ring xxmaj two \" , and \" the xxmaj amityville xxmaj horror \" all showed glimpses of interest and potential , there have been more misses than hits . xxmaj for proof , see : \" white xxmaj noise \" , \" boogeyman \" , \" the xxmaj jacket \" , \" mindhunters \" , and \" alone in the xxmaj dark \" . xxmaj imagine my surprise when \" house of xxmaj wax \" , tightly written by siblings xxmaj chad and xxmaj carey xxmaj hayes , turned out to be … well , a surprise . \\n\\n xxmaj carly xxmaj jones ( elisha xxmaj cuthbert ) is a young</td>\n",
       "      <td>pos</td>\n",
       "      <td>pos</td>\n",
       "    </tr>\n",
       "    <tr>\n",
       "      <th>7</th>\n",
       "      <td>xxbos i wrote this as a two part review . xxmaj part two has spoilers . \\n\\n xxmaj part 1 : \\n\\n xxmaj no , this is n't that one about the sex with car accidents . xxmaj this is the one about racism in xxup l.a . xxmaj you know , the one where everybody is a racist , and race is the topic on everybody 's mind at all times . xxmaj race . \\n\\n xxmaj its like the movie has a form of turrets syndrome where race is the constant theme . xxmaj race . xxmaj racist . xxmaj racism . xxmaj race xxmaj relations . xxmaj relay race . \\n\\n xxmaj paul xxmaj haggis made a movie which took the structure of xxmaj magnolia , which was used to show the disconnect of people who are tangentially connected , and then screwed it into a xxunk</td>\n",
       "      <td>neg</td>\n",
       "      <td>neg</td>\n",
       "    </tr>\n",
       "    <tr>\n",
       "      <th>8</th>\n",
       "      <td>xxbos xxmaj this is a simple episode ad so far after watching all of the xxmaj season 11 episodes ( with the exception of the xxmaj xxunk trilogy ) this is the one that made laugh the most , definitely is my favourite so far of xxmaj season 11 . xxmaj so basically xxmaj cartman sees at a toy store a kid who has the xxmaj tourette 's syndrome and a new idea comes to xxmaj cartman . xxmaj you can imagine , now xxmaj cartman has xxmaj tourette 's syndrome and is great since xxmaj kyle once he knows about this is like \" he 's faking \" . xxmaj cartman is certainly on fire , saying whatever he wants to the teachers , to the principal , to anybody . xxmaj on the other hand we have xxmaj kyle who now is the intolerant one , basically for</td>\n",
       "      <td>pos</td>\n",
       "      <td>pos</td>\n",
       "    </tr>\n",
       "  </tbody>\n",
       "</table>"
      ],
      "text/plain": [
       "<IPython.core.display.HTML object>"
      ]
     },
     "metadata": {},
     "output_type": "display_data"
    }
   ],
   "source": [
    "reviewLearner.show_results()"
   ]
  },
  {
   "cell_type": "code",
   "execution_count": 11,
   "id": "f3e36e06",
   "metadata": {
    "execution": {
     "iopub.execute_input": "2024-02-14T04:37:36.258161Z",
     "iopub.status.busy": "2024-02-14T04:37:36.257860Z",
     "iopub.status.idle": "2024-02-14T04:37:36.302982Z",
     "shell.execute_reply": "2024-02-14T04:37:36.302129Z"
    },
    "papermill": {
     "duration": 0.062828,
     "end_time": "2024-02-14T04:37:36.304963",
     "exception": false,
     "start_time": "2024-02-14T04:37:36.242135",
     "status": "completed"
    },
    "tags": []
   },
   "outputs": [
    {
     "data": {
      "text/html": [
       "\n",
       "<style>\n",
       "    /* Turns off some styling */\n",
       "    progress {\n",
       "        /* gets rid of default border in Firefox and Opera. */\n",
       "        border: none;\n",
       "        /* Needs to be in here for Safari polyfill so background images work as expected. */\n",
       "        background-size: auto;\n",
       "    }\n",
       "    progress:not([value]), progress:not([value])::-webkit-progress-bar {\n",
       "        background: repeating-linear-gradient(45deg, #7e7e7e, #7e7e7e 10px, #5c5c5c 10px, #5c5c5c 20px);\n",
       "    }\n",
       "    .progress-bar-interrupted, .progress-bar-interrupted::-webkit-progress-bar {\n",
       "        background: #F44336;\n",
       "    }\n",
       "</style>\n"
      ],
      "text/plain": [
       "<IPython.core.display.HTML object>"
      ]
     },
     "metadata": {},
     "output_type": "display_data"
    },
    {
     "data": {
      "text/html": [],
      "text/plain": [
       "<IPython.core.display.HTML object>"
      ]
     },
     "metadata": {},
     "output_type": "display_data"
    },
    {
     "data": {
      "text/plain": [
       "('neg', tensor(0), tensor([0.5802, 0.4198]))"
      ]
     },
     "execution_count": 11,
     "metadata": {},
     "output_type": "execute_result"
    }
   ],
   "source": [
    "reviewLearner.predict('I really didn\\'t like the movie')"
   ]
  },
  {
   "cell_type": "markdown",
   "id": "811eaf8f",
   "metadata": {
    "papermill": {
     "duration": 0.013941,
     "end_time": "2024-02-14T04:37:36.333000",
     "exception": false,
     "start_time": "2024-02-14T04:37:36.319059",
     "status": "completed"
    },
    "tags": []
   },
   "source": [
    "# The ULMFiT Approach\n",
    "Since the AWD_LSTM pretrained model has been trained with wikipedia english which is different that the english used in the IMDB reviews we will be taking two step approach to create a classifier\n",
    "### Steps:\n",
    "1. Turn wiki language model into IMDb language model We will use the non categorised additional text dataset supplied to create IMDb Language model\n",
    "2. Turn the IMDb Language model into review classifier Fine tune the model to classifier using the labelled dataset\n"
   ]
  },
  {
   "cell_type": "markdown",
   "id": "ce549fcc",
   "metadata": {
    "papermill": {
     "duration": 0.014588,
     "end_time": "2024-02-14T04:37:36.361781",
     "exception": false,
     "start_time": "2024-02-14T04:37:36.347193",
     "status": "completed"
    },
    "tags": []
   },
   "source": [
    "## Step 1: Finetuning to create IMDb Review LM"
   ]
  },
  {
   "cell_type": "code",
   "execution_count": 12,
   "id": "321dc28b",
   "metadata": {
    "execution": {
     "iopub.execute_input": "2024-02-14T04:37:36.390876Z",
     "iopub.status.busy": "2024-02-14T04:37:36.390601Z",
     "iopub.status.idle": "2024-02-14T04:37:41.768039Z",
     "shell.execute_reply": "2024-02-14T04:37:41.767236Z"
    },
    "papermill": {
     "duration": 5.394744,
     "end_time": "2024-02-14T04:37:41.770470",
     "exception": false,
     "start_time": "2024-02-14T04:37:36.375726",
     "status": "completed"
    },
    "tags": []
   },
   "outputs": [],
   "source": [
    "# is_lm parameter sets the dataloaders object to have labels according to the LM\n",
    "dls_lm = TextDataLoaders.from_folder(imdbPath, is_lm=True, valid_pct=0.1)"
   ]
  },
  {
   "cell_type": "code",
   "execution_count": 13,
   "id": "398d89e8",
   "metadata": {
    "execution": {
     "iopub.execute_input": "2024-02-14T04:37:41.801162Z",
     "iopub.status.busy": "2024-02-14T04:37:41.800381Z",
     "iopub.status.idle": "2024-02-14T04:37:42.513316Z",
     "shell.execute_reply": "2024-02-14T04:37:42.512402Z"
    },
    "papermill": {
     "duration": 0.730261,
     "end_time": "2024-02-14T04:37:42.515444",
     "exception": false,
     "start_time": "2024-02-14T04:37:41.785183",
     "status": "completed"
    },
    "tags": []
   },
   "outputs": [
    {
     "data": {
      "text/html": [
       "<table border=\"1\" class=\"dataframe\">\n",
       "  <thead>\n",
       "    <tr style=\"text-align: right;\">\n",
       "      <th></th>\n",
       "      <th>text</th>\n",
       "      <th>text_</th>\n",
       "    </tr>\n",
       "  </thead>\n",
       "  <tbody>\n",
       "    <tr>\n",
       "      <th>0</th>\n",
       "      <td>xxbos xxup evan xxup almighty ( 2007 ) * * xxmaj steve xxmaj carell , xxmaj morgan xxmaj freeman , xxmaj lauren xxmaj graham , xxmaj johnny xxmaj simmons , xxmaj graham xxmaj phillips , xxmaj jimmy xxmaj bennett , xxmaj john xxmaj goodman , xxmaj wanda xxmaj sykes , xxmaj john xxmaj michael xxmaj higgins , xxmaj jonah xxmaj hill , xxmaj molly xxmaj shannon , xxmaj ed xxmaj helms ,</td>\n",
       "      <td>xxup evan xxup almighty ( 2007 ) * * xxmaj steve xxmaj carell , xxmaj morgan xxmaj freeman , xxmaj lauren xxmaj graham , xxmaj johnny xxmaj simmons , xxmaj graham xxmaj phillips , xxmaj jimmy xxmaj bennett , xxmaj john xxmaj goodman , xxmaj wanda xxmaj sykes , xxmaj john xxmaj michael xxmaj higgins , xxmaj jonah xxmaj hill , xxmaj molly xxmaj shannon , xxmaj ed xxmaj helms , (</td>\n",
       "    </tr>\n",
       "    <tr>\n",
       "      <th>1</th>\n",
       "      <td>movie . \\n\\n xxmaj john xxmaj carpenter took a low budget film and he scared a generation of movie goers . xxmaj he showed that you do n't need budgets in the 8 or 9 figures to evoke fear on an audience . xxmaj because sometimes the best element of fear is not what actually happens , but what is about to happen . xxmaj what was that shadow ? xxmaj what</td>\n",
       "      <td>. \\n\\n xxmaj john xxmaj carpenter took a low budget film and he scared a generation of movie goers . xxmaj he showed that you do n't need budgets in the 8 or 9 figures to evoke fear on an audience . xxmaj because sometimes the best element of fear is not what actually happens , but what is about to happen . xxmaj what was that shadow ? xxmaj what was</td>\n",
       "    </tr>\n",
       "    <tr>\n",
       "      <th>2</th>\n",
       "      <td>is good in his role i liked him . xxmaj lincoln xxmaj kilpatrick had a strong presence about him and was great as xxmaj abraham , it sucked he did n't survive . xxmaj jeffrey xxmaj combs is good as the computer geek i love this guy ! . xxmaj rest of the cast are fine . \\n\\n xxmaj overall i highly recommend this one ! . xxrep 3 * 1 /</td>\n",
       "      <td>good in his role i liked him . xxmaj lincoln xxmaj kilpatrick had a strong presence about him and was great as xxmaj abraham , it sucked he did n't survive . xxmaj jeffrey xxmaj combs is good as the computer geek i love this guy ! . xxmaj rest of the cast are fine . \\n\\n xxmaj overall i highly recommend this one ! . xxrep 3 * 1 / 2</td>\n",
       "    </tr>\n",
       "    <tr>\n",
       "      <th>3</th>\n",
       "      <td>( both picture and xxunk existing copies . xxmaj insulting racial stereotyping . ( as implied above . ) \\n\\n xxmaj ridiculously inaccurate scientific predictions about television . ( as implied above . ) \\n\\n xxmaj undeveloped characters , giving the audience a \" who cares \" feeling when someone gets murdered . \\n\\n xxmaj and a general weakness of the writing , acting , and directing . \\n\\n xxmaj being a</td>\n",
       "      <td>both picture and xxunk existing copies . xxmaj insulting racial stereotyping . ( as implied above . ) \\n\\n xxmaj ridiculously inaccurate scientific predictions about television . ( as implied above . ) \\n\\n xxmaj undeveloped characters , giving the audience a \" who cares \" feeling when someone gets murdered . \\n\\n xxmaj and a general weakness of the writing , acting , and directing . \\n\\n xxmaj being a xxmaj</td>\n",
       "    </tr>\n",
       "    <tr>\n",
       "      <th>4</th>\n",
       "      <td>stereotype : gorgeously grotesque xxup d.j . xxmaj qualls as computer - hacker , xxmaj rat . xxmaj is n't his \" unlikely hero \" character one of those rootless , amoral beings who make our modern online lives unbearable with viruses and identity theft and their wholly unnecessary existence ? xxmaj the sooner they are eradicated , rather than xxunk , the better . \\n\\n xxmaj there 's the square -</td>\n",
       "      <td>: gorgeously grotesque xxup d.j . xxmaj qualls as computer - hacker , xxmaj rat . xxmaj is n't his \" unlikely hero \" character one of those rootless , amoral beings who make our modern online lives unbearable with viruses and identity theft and their wholly unnecessary existence ? xxmaj the sooner they are eradicated , rather than xxunk , the better . \\n\\n xxmaj there 's the square - jawed</td>\n",
       "    </tr>\n",
       "  </tbody>\n",
       "</table>"
      ],
      "text/plain": [
       "<IPython.core.display.HTML object>"
      ]
     },
     "metadata": {},
     "output_type": "display_data"
    }
   ],
   "source": [
    "dls_lm.show_batch(max_n=5)"
   ]
  },
  {
   "cell_type": "code",
   "execution_count": 14,
   "id": "0d25ec75",
   "metadata": {
    "execution": {
     "iopub.execute_input": "2024-02-14T04:37:42.546967Z",
     "iopub.status.busy": "2024-02-14T04:37:42.546426Z",
     "iopub.status.idle": "2024-02-14T04:37:44.671182Z",
     "shell.execute_reply": "2024-02-14T04:37:44.670362Z"
    },
    "papermill": {
     "duration": 2.14319,
     "end_time": "2024-02-14T04:37:44.673639",
     "exception": false,
     "start_time": "2024-02-14T04:37:42.530449",
     "status": "completed"
    },
    "tags": []
   },
   "outputs": [],
   "source": [
    "# Grabbing learner \n",
    "# Setting our dataloaders\n",
    "# setting our base pretrained model architechture\n",
    "# setting metrics and weight decay\n",
    "# .to_fp16puts the learner in mixed precision which drops some \n",
    "# decimal precision to get faster on the GPUs which contain tensor cores\n",
    "learn = language_model_learner(dls_lm,\n",
    "                               AWD_LSTM,\n",
    "                               metrics = [accuracy, Perplexity()],\n",
    "                               path=imdbPath,\n",
    "                               wd=0.1).to_fp16()"
   ]
  },
  {
   "cell_type": "markdown",
   "id": "6dace3e3",
   "metadata": {
    "papermill": {
     "duration": 0.014068,
     "end_time": "2024-02-14T04:37:44.702296",
     "exception": false,
     "start_time": "2024-02-14T04:37:44.688228",
     "status": "completed"
    },
    "tags": []
   },
   "source": [
    "we are using slanting learning rate hence lr is different in last layer and in hidden layers"
   ]
  },
  {
   "cell_type": "code",
   "execution_count": 15,
   "id": "772d308e",
   "metadata": {
    "execution": {
     "iopub.execute_input": "2024-02-14T04:37:44.732286Z",
     "iopub.status.busy": "2024-02-14T04:37:44.731929Z",
     "iopub.status.idle": "2024-02-14T05:09:22.538768Z",
     "shell.execute_reply": "2024-02-14T05:09:22.537897Z"
    },
    "papermill": {
     "duration": 1897.824185,
     "end_time": "2024-02-14T05:09:22.540735",
     "exception": false,
     "start_time": "2024-02-14T04:37:44.716550",
     "status": "completed"
    },
    "tags": []
   },
   "outputs": [
    {
     "data": {
      "text/html": [
       "\n",
       "<style>\n",
       "    /* Turns off some styling */\n",
       "    progress {\n",
       "        /* gets rid of default border in Firefox and Opera. */\n",
       "        border: none;\n",
       "        /* Needs to be in here for Safari polyfill so background images work as expected. */\n",
       "        background-size: auto;\n",
       "    }\n",
       "    progress:not([value]), progress:not([value])::-webkit-progress-bar {\n",
       "        background: repeating-linear-gradient(45deg, #7e7e7e, #7e7e7e 10px, #5c5c5c 10px, #5c5c5c 20px);\n",
       "    }\n",
       "    .progress-bar-interrupted, .progress-bar-interrupted::-webkit-progress-bar {\n",
       "        background: #F44336;\n",
       "    }\n",
       "</style>\n"
      ],
      "text/plain": [
       "<IPython.core.display.HTML object>"
      ]
     },
     "metadata": {},
     "output_type": "display_data"
    },
    {
     "data": {
      "text/html": [
       "<table border=\"1\" class=\"dataframe\">\n",
       "  <thead>\n",
       "    <tr style=\"text-align: left;\">\n",
       "      <th>epoch</th>\n",
       "      <th>train_loss</th>\n",
       "      <th>valid_loss</th>\n",
       "      <th>accuracy</th>\n",
       "      <th>perplexity</th>\n",
       "      <th>time</th>\n",
       "    </tr>\n",
       "  </thead>\n",
       "  <tbody>\n",
       "    <tr>\n",
       "      <td>0</td>\n",
       "      <td>4.402109</td>\n",
       "      <td>4.115086</td>\n",
       "      <td>0.286326</td>\n",
       "      <td>61.257458</td>\n",
       "      <td>31:37</td>\n",
       "    </tr>\n",
       "  </tbody>\n",
       "</table>"
      ],
      "text/plain": [
       "<IPython.core.display.HTML object>"
      ]
     },
     "metadata": {},
     "output_type": "display_data"
    }
   ],
   "source": [
    "# By default model is in frozen_state\n",
    "# ie, model head will train and rest of the body stays frozen\n",
    "learn.fit_one_cycle(1, 1e-2)"
   ]
  },
  {
   "cell_type": "markdown",
   "id": "5c4007c4",
   "metadata": {
    "papermill": {
     "duration": 0.014402,
     "end_time": "2024-02-14T05:09:22.570158",
     "exception": false,
     "start_time": "2024-02-14T05:09:22.555756",
     "status": "completed"
    },
    "tags": []
   },
   "source": [
    "Saving and loading intermediate results"
   ]
  },
  {
   "cell_type": "code",
   "execution_count": 16,
   "id": "19f31bad",
   "metadata": {
    "execution": {
     "iopub.execute_input": "2024-02-14T05:09:22.600266Z",
     "iopub.status.busy": "2024-02-14T05:09:22.599900Z",
     "iopub.status.idle": "2024-02-14T05:09:23.276820Z",
     "shell.execute_reply": "2024-02-14T05:09:23.275868Z"
    },
    "papermill": {
     "duration": 0.694265,
     "end_time": "2024-02-14T05:09:23.278755",
     "exception": false,
     "start_time": "2024-02-14T05:09:22.584490",
     "status": "completed"
    },
    "tags": []
   },
   "outputs": [
    {
     "data": {
      "text/plain": [
       "Path('/root/.fastai/data/imdb/models/1epoch.pth')"
      ]
     },
     "execution_count": 16,
     "metadata": {},
     "output_type": "execute_result"
    }
   ],
   "source": [
    "learn.save('1epoch')\n",
    "# Saved at learn.path/models/"
   ]
  },
  {
   "cell_type": "code",
   "execution_count": 17,
   "id": "da5fe8bb",
   "metadata": {
    "execution": {
     "iopub.execute_input": "2024-02-14T05:09:23.309710Z",
     "iopub.status.busy": "2024-02-14T05:09:23.309120Z",
     "iopub.status.idle": "2024-02-14T05:09:23.583045Z",
     "shell.execute_reply": "2024-02-14T05:09:23.582244Z"
    },
    "papermill": {
     "duration": 0.291686,
     "end_time": "2024-02-14T05:09:23.585308",
     "exception": false,
     "start_time": "2024-02-14T05:09:23.293622",
     "status": "completed"
    },
    "tags": []
   },
   "outputs": [],
   "source": [
    "learn = learn.load('1epoch')"
   ]
  },
  {
   "cell_type": "code",
   "execution_count": 18,
   "id": "ba68e311",
   "metadata": {
    "execution": {
     "iopub.execute_input": "2024-02-14T05:09:23.616674Z",
     "iopub.status.busy": "2024-02-14T05:09:23.616153Z",
     "iopub.status.idle": "2024-02-14T05:44:14.764001Z",
     "shell.execute_reply": "2024-02-14T05:44:14.763010Z"
    },
    "papermill": {
     "duration": 2091.165716,
     "end_time": "2024-02-14T05:44:14.766213",
     "exception": false,
     "start_time": "2024-02-14T05:09:23.600497",
     "status": "completed"
    },
    "tags": []
   },
   "outputs": [
    {
     "data": {
      "text/html": [
       "\n",
       "<style>\n",
       "    /* Turns off some styling */\n",
       "    progress {\n",
       "        /* gets rid of default border in Firefox and Opera. */\n",
       "        border: none;\n",
       "        /* Needs to be in here for Safari polyfill so background images work as expected. */\n",
       "        background-size: auto;\n",
       "    }\n",
       "    progress:not([value]), progress:not([value])::-webkit-progress-bar {\n",
       "        background: repeating-linear-gradient(45deg, #7e7e7e, #7e7e7e 10px, #5c5c5c 10px, #5c5c5c 20px);\n",
       "    }\n",
       "    .progress-bar-interrupted, .progress-bar-interrupted::-webkit-progress-bar {\n",
       "        background: #F44336;\n",
       "    }\n",
       "</style>\n"
      ],
      "text/plain": [
       "<IPython.core.display.HTML object>"
      ]
     },
     "metadata": {},
     "output_type": "display_data"
    },
    {
     "data": {
      "text/html": [
       "<table border=\"1\" class=\"dataframe\">\n",
       "  <thead>\n",
       "    <tr style=\"text-align: left;\">\n",
       "      <th>epoch</th>\n",
       "      <th>train_loss</th>\n",
       "      <th>valid_loss</th>\n",
       "      <th>accuracy</th>\n",
       "      <th>perplexity</th>\n",
       "      <th>time</th>\n",
       "    </tr>\n",
       "  </thead>\n",
       "  <tbody>\n",
       "    <tr>\n",
       "      <td>0</td>\n",
       "      <td>4.034254</td>\n",
       "      <td>3.837670</td>\n",
       "      <td>0.313056</td>\n",
       "      <td>46.417210</td>\n",
       "      <td>34:51</td>\n",
       "    </tr>\n",
       "  </tbody>\n",
       "</table>"
      ],
      "text/plain": [
       "<IPython.core.display.HTML object>"
      ]
     },
     "metadata": {},
     "output_type": "display_data"
    }
   ],
   "source": [
    "# Unfreezing the entire model\n",
    "learn.unfreeze()\n",
    "learn.fit_one_cycle(1, 1e-3)"
   ]
  },
  {
   "cell_type": "markdown",
   "id": "6825abef",
   "metadata": {
    "papermill": {
     "duration": 0.015129,
     "end_time": "2024-02-14T05:44:14.796936",
     "exception": false,
     "start_time": "2024-02-14T05:44:14.781807",
     "status": "completed"
    },
    "tags": []
   },
   "source": [
    "we save all of our model except the final layer that converts activations to probabilities of picking each token in our vocabulary."
   ]
  },
  {
   "cell_type": "code",
   "execution_count": 19,
   "id": "1c926b08",
   "metadata": {
    "execution": {
     "iopub.execute_input": "2024-02-14T05:44:14.829571Z",
     "iopub.status.busy": "2024-02-14T05:44:14.828699Z",
     "iopub.status.idle": "2024-02-14T05:44:15.162108Z",
     "shell.execute_reply": "2024-02-14T05:44:15.161320Z"
    },
    "papermill": {
     "duration": 0.351985,
     "end_time": "2024-02-14T05:44:15.164334",
     "exception": false,
     "start_time": "2024-02-14T05:44:14.812349",
     "status": "completed"
    },
    "tags": []
   },
   "outputs": [],
   "source": [
    "# Saving the model without the final layer (encoder) which determines the outcome of the final goal/task of the model\n",
    "learn.save_encoder('finetuned')"
   ]
  },
  {
   "cell_type": "markdown",
   "id": "13f8a274",
   "metadata": {
    "papermill": {
     "duration": 0.015084,
     "end_time": "2024-02-14T05:44:15.196026",
     "exception": false,
     "start_time": "2024-02-14T05:44:15.180942",
     "status": "completed"
    },
    "tags": []
   },
   "source": [
    "Since our IMDb dataset based Language model has been created; we can use it to predict the next words of the random movie reviews....\n",
    "Since it is trained to guess the next word of the sentence specifically movie reviews"
   ]
  },
  {
   "cell_type": "code",
   "execution_count": 20,
   "id": "30bb657a",
   "metadata": {
    "execution": {
     "iopub.execute_input": "2024-02-14T05:44:15.228321Z",
     "iopub.status.busy": "2024-02-14T05:44:15.227958Z",
     "iopub.status.idle": "2024-02-14T05:44:16.528241Z",
     "shell.execute_reply": "2024-02-14T05:44:16.527263Z"
    },
    "papermill": {
     "duration": 1.31883,
     "end_time": "2024-02-14T05:44:16.530204",
     "exception": false,
     "start_time": "2024-02-14T05:44:15.211374",
     "status": "completed"
    },
    "tags": []
   },
   "outputs": [
    {
     "data": {
      "text/html": [
       "\n",
       "<style>\n",
       "    /* Turns off some styling */\n",
       "    progress {\n",
       "        /* gets rid of default border in Firefox and Opera. */\n",
       "        border: none;\n",
       "        /* Needs to be in here for Safari polyfill so background images work as expected. */\n",
       "        background-size: auto;\n",
       "    }\n",
       "    progress:not([value]), progress:not([value])::-webkit-progress-bar {\n",
       "        background: repeating-linear-gradient(45deg, #7e7e7e, #7e7e7e 10px, #5c5c5c 10px, #5c5c5c 20px);\n",
       "    }\n",
       "    .progress-bar-interrupted, .progress-bar-interrupted::-webkit-progress-bar {\n",
       "        background: #F44336;\n",
       "    }\n",
       "</style>\n"
      ],
      "text/plain": [
       "<IPython.core.display.HTML object>"
      ]
     },
     "metadata": {},
     "output_type": "display_data"
    },
    {
     "data": {
      "text/html": [],
      "text/plain": [
       "<IPython.core.display.HTML object>"
      ]
     },
     "metadata": {},
     "output_type": "display_data"
    },
    {
     "data": {
      "text/html": [
       "\n",
       "<style>\n",
       "    /* Turns off some styling */\n",
       "    progress {\n",
       "        /* gets rid of default border in Firefox and Opera. */\n",
       "        border: none;\n",
       "        /* Needs to be in here for Safari polyfill so background images work as expected. */\n",
       "        background-size: auto;\n",
       "    }\n",
       "    progress:not([value]), progress:not([value])::-webkit-progress-bar {\n",
       "        background: repeating-linear-gradient(45deg, #7e7e7e, #7e7e7e 10px, #5c5c5c 10px, #5c5c5c 20px);\n",
       "    }\n",
       "    .progress-bar-interrupted, .progress-bar-interrupted::-webkit-progress-bar {\n",
       "        background: #F44336;\n",
       "    }\n",
       "</style>\n"
      ],
      "text/plain": [
       "<IPython.core.display.HTML object>"
      ]
     },
     "metadata": {},
     "output_type": "display_data"
    },
    {
     "data": {
      "text/html": [],
      "text/plain": [
       "<IPython.core.display.HTML object>"
      ]
     },
     "metadata": {},
     "output_type": "display_data"
    },
    {
     "name": "stdout",
     "output_type": "stream",
     "text": [
      "i like this movie because of scene where Barbara Stanwyck goes on the plane and sees a chick . All the actors are pretty good . The plot is n't as bad as it is . The plot is contrived , the actors\n",
      "i like this movie because of scene where Jack Black and Jack Black are in a car crash . They get hit by the car and start driving . They do n't know what it 's about , dani there 's a\n"
     ]
    }
   ],
   "source": [
    "TEXT = 'I like this movie because of scene where'\n",
    "N_WORDS = 40\n",
    "N_SENTENCES = 2\n",
    "preds = [learn.predict(TEXT, N_WORDS, temperature=0.75) for _ in range(N_SENTENCES)]\n",
    "print('\\n'.join(preds))"
   ]
  },
  {
   "cell_type": "markdown",
   "id": "4fe46f86",
   "metadata": {
    "papermill": {
     "duration": 0.015719,
     "end_time": "2024-02-14T05:44:16.561913",
     "exception": false,
     "start_time": "2024-02-14T05:44:16.546194",
     "status": "completed"
    },
    "tags": []
   },
   "source": [
    "## Step 2: Finetuning IMDb Language Model to Review Classifier"
   ]
  },
  {
   "cell_type": "code",
   "execution_count": 21,
   "id": "f48a7398",
   "metadata": {
    "execution": {
     "iopub.execute_input": "2024-02-14T05:44:16.596161Z",
     "iopub.status.busy": "2024-02-14T05:44:16.595224Z",
     "iopub.status.idle": "2024-02-14T05:44:23.224275Z",
     "shell.execute_reply": "2024-02-14T05:44:23.223361Z"
    },
    "papermill": {
     "duration": 6.648859,
     "end_time": "2024-02-14T05:44:23.226569",
     "exception": false,
     "start_time": "2024-02-14T05:44:16.577710",
     "status": "completed"
    },
    "tags": []
   },
   "outputs": [],
   "source": [
    "# We are adding the vocabulary used in dls_lm \n",
    "# Or the weight learned from finetuning to IMDb Language Model won't be of any use\n",
    "\n",
    "dls_clas = TextDataLoaders.from_folder(imdbPath,\n",
    "                           valid='test',\n",
    "                           text_vocab = dls_lm.vocab)"
   ]
  },
  {
   "cell_type": "code",
   "execution_count": 22,
   "id": "066b8055",
   "metadata": {
    "execution": {
     "iopub.execute_input": "2024-02-14T05:44:23.260474Z",
     "iopub.status.busy": "2024-02-14T05:44:23.259752Z",
     "iopub.status.idle": "2024-02-14T05:44:24.896218Z",
     "shell.execute_reply": "2024-02-14T05:44:24.895225Z"
    },
    "papermill": {
     "duration": 1.65575,
     "end_time": "2024-02-14T05:44:24.898499",
     "exception": false,
     "start_time": "2024-02-14T05:44:23.242749",
     "status": "completed"
    },
    "tags": []
   },
   "outputs": [],
   "source": [
    "learn = text_classifier_learner(dls_clas, AWD_LSTM, drop_mult=0.5, metrics=accuracy)"
   ]
  },
  {
   "cell_type": "code",
   "execution_count": 23,
   "id": "c5bac946",
   "metadata": {
    "execution": {
     "iopub.execute_input": "2024-02-14T05:44:24.932118Z",
     "iopub.status.busy": "2024-02-14T05:44:24.931781Z",
     "iopub.status.idle": "2024-02-14T05:44:25.120609Z",
     "shell.execute_reply": "2024-02-14T05:44:25.119743Z"
    },
    "papermill": {
     "duration": 0.208049,
     "end_time": "2024-02-14T05:44:25.122899",
     "exception": false,
     "start_time": "2024-02-14T05:44:24.914850",
     "status": "completed"
    },
    "tags": []
   },
   "outputs": [],
   "source": [
    "# The difference is that before training it, we load the previous encoder:\n",
    "learn = learn.load_encoder('finetuned')"
   ]
  },
  {
   "cell_type": "markdown",
   "id": "6a888b6b",
   "metadata": {
    "papermill": {
     "duration": 0.016177,
     "end_time": "2024-02-14T05:44:25.155277",
     "exception": false,
     "start_time": "2024-02-14T05:44:25.139100",
     "status": "completed"
    },
    "tags": []
   },
   "source": [
    "Last step is to train with discriminative learning rates and gradual unfreezing. In computer vision, we oftten unfreeze the model all at once, but for NLP classifiers, we would unfreeze few layers at a time...This makes a real difference and prevents loss of information the data that model was trained on earlier"
   ]
  },
  {
   "cell_type": "code",
   "execution_count": 24,
   "id": "c86229e0",
   "metadata": {
    "execution": {
     "iopub.execute_input": "2024-02-14T05:44:25.191136Z",
     "iopub.status.busy": "2024-02-14T05:44:25.190769Z",
     "iopub.status.idle": "2024-02-14T05:46:37.182274Z",
     "shell.execute_reply": "2024-02-14T05:46:37.181353Z"
    },
    "papermill": {
     "duration": 132.013177,
     "end_time": "2024-02-14T05:46:37.184416",
     "exception": false,
     "start_time": "2024-02-14T05:44:25.171239",
     "status": "completed"
    },
    "tags": []
   },
   "outputs": [
    {
     "data": {
      "text/html": [
       "\n",
       "<style>\n",
       "    /* Turns off some styling */\n",
       "    progress {\n",
       "        /* gets rid of default border in Firefox and Opera. */\n",
       "        border: none;\n",
       "        /* Needs to be in here for Safari polyfill so background images work as expected. */\n",
       "        background-size: auto;\n",
       "    }\n",
       "    progress:not([value]), progress:not([value])::-webkit-progress-bar {\n",
       "        background: repeating-linear-gradient(45deg, #7e7e7e, #7e7e7e 10px, #5c5c5c 10px, #5c5c5c 20px);\n",
       "    }\n",
       "    .progress-bar-interrupted, .progress-bar-interrupted::-webkit-progress-bar {\n",
       "        background: #F44336;\n",
       "    }\n",
       "</style>\n"
      ],
      "text/plain": [
       "<IPython.core.display.HTML object>"
      ]
     },
     "metadata": {},
     "output_type": "display_data"
    },
    {
     "data": {
      "text/html": [
       "<table border=\"1\" class=\"dataframe\">\n",
       "  <thead>\n",
       "    <tr style=\"text-align: left;\">\n",
       "      <th>epoch</th>\n",
       "      <th>train_loss</th>\n",
       "      <th>valid_loss</th>\n",
       "      <th>accuracy</th>\n",
       "      <th>time</th>\n",
       "    </tr>\n",
       "  </thead>\n",
       "  <tbody>\n",
       "    <tr>\n",
       "      <td>0</td>\n",
       "      <td>0.280097</td>\n",
       "      <td>0.243641</td>\n",
       "      <td>0.903320</td>\n",
       "      <td>02:11</td>\n",
       "    </tr>\n",
       "  </tbody>\n",
       "</table>"
      ],
      "text/plain": [
       "<IPython.core.display.HTML object>"
      ]
     },
     "metadata": {},
     "output_type": "display_data"
    }
   ],
   "source": [
    "learn.fit_one_cycle(1, 2e-2)"
   ]
  },
  {
   "cell_type": "markdown",
   "id": "fbec94b8",
   "metadata": {
    "papermill": {
     "duration": 0.016158,
     "end_time": "2024-02-14T05:46:37.217152",
     "exception": false,
     "start_time": "2024-02-14T05:46:37.200994",
     "status": "completed"
    },
    "tags": []
   },
   "source": [
    "In just one epoch we get the same result as our training in the first section, not too bad! We can pass -2 to freeze_to to freeze all except the last two parameter groups:"
   ]
  },
  {
   "cell_type": "code",
   "execution_count": 25,
   "id": "1aa6da3e",
   "metadata": {
    "execution": {
     "iopub.execute_input": "2024-02-14T05:46:37.251283Z",
     "iopub.status.busy": "2024-02-14T05:46:37.250902Z",
     "iopub.status.idle": "2024-02-14T05:49:06.341101Z",
     "shell.execute_reply": "2024-02-14T05:49:06.339890Z"
    },
    "papermill": {
     "duration": 149.11007,
     "end_time": "2024-02-14T05:49:06.343267",
     "exception": false,
     "start_time": "2024-02-14T05:46:37.233197",
     "status": "completed"
    },
    "tags": []
   },
   "outputs": [
    {
     "data": {
      "text/html": [
       "\n",
       "<style>\n",
       "    /* Turns off some styling */\n",
       "    progress {\n",
       "        /* gets rid of default border in Firefox and Opera. */\n",
       "        border: none;\n",
       "        /* Needs to be in here for Safari polyfill so background images work as expected. */\n",
       "        background-size: auto;\n",
       "    }\n",
       "    progress:not([value]), progress:not([value])::-webkit-progress-bar {\n",
       "        background: repeating-linear-gradient(45deg, #7e7e7e, #7e7e7e 10px, #5c5c5c 10px, #5c5c5c 20px);\n",
       "    }\n",
       "    .progress-bar-interrupted, .progress-bar-interrupted::-webkit-progress-bar {\n",
       "        background: #F44336;\n",
       "    }\n",
       "</style>\n"
      ],
      "text/plain": [
       "<IPython.core.display.HTML object>"
      ]
     },
     "metadata": {},
     "output_type": "display_data"
    },
    {
     "data": {
      "text/html": [
       "<table border=\"1\" class=\"dataframe\">\n",
       "  <thead>\n",
       "    <tr style=\"text-align: left;\">\n",
       "      <th>epoch</th>\n",
       "      <th>train_loss</th>\n",
       "      <th>valid_loss</th>\n",
       "      <th>accuracy</th>\n",
       "      <th>time</th>\n",
       "    </tr>\n",
       "  </thead>\n",
       "  <tbody>\n",
       "    <tr>\n",
       "      <td>0</td>\n",
       "      <td>0.239275</td>\n",
       "      <td>0.189365</td>\n",
       "      <td>0.927840</td>\n",
       "      <td>02:29</td>\n",
       "    </tr>\n",
       "  </tbody>\n",
       "</table>"
      ],
      "text/plain": [
       "<IPython.core.display.HTML object>"
      ]
     },
     "metadata": {},
     "output_type": "display_data"
    }
   ],
   "source": [
    "# unfreeze last two layers\n",
    "learn.freeze_to(-2)\n",
    "learn.fit_one_cycle(1, slice(1e-2/(2.6**4), 1e-2))"
   ]
  },
  {
   "cell_type": "code",
   "execution_count": 26,
   "id": "5c9dec03",
   "metadata": {
    "execution": {
     "iopub.execute_input": "2024-02-14T05:49:06.379033Z",
     "iopub.status.busy": "2024-02-14T05:49:06.378139Z",
     "iopub.status.idle": "2024-02-14T05:52:28.702179Z",
     "shell.execute_reply": "2024-02-14T05:52:28.701223Z"
    },
    "papermill": {
     "duration": 202.344111,
     "end_time": "2024-02-14T05:52:28.704375",
     "exception": false,
     "start_time": "2024-02-14T05:49:06.360264",
     "status": "completed"
    },
    "tags": []
   },
   "outputs": [
    {
     "data": {
      "text/html": [
       "\n",
       "<style>\n",
       "    /* Turns off some styling */\n",
       "    progress {\n",
       "        /* gets rid of default border in Firefox and Opera. */\n",
       "        border: none;\n",
       "        /* Needs to be in here for Safari polyfill so background images work as expected. */\n",
       "        background-size: auto;\n",
       "    }\n",
       "    progress:not([value]), progress:not([value])::-webkit-progress-bar {\n",
       "        background: repeating-linear-gradient(45deg, #7e7e7e, #7e7e7e 10px, #5c5c5c 10px, #5c5c5c 20px);\n",
       "    }\n",
       "    .progress-bar-interrupted, .progress-bar-interrupted::-webkit-progress-bar {\n",
       "        background: #F44336;\n",
       "    }\n",
       "</style>\n"
      ],
      "text/plain": [
       "<IPython.core.display.HTML object>"
      ]
     },
     "metadata": {},
     "output_type": "display_data"
    },
    {
     "data": {
      "text/html": [
       "<table border=\"1\" class=\"dataframe\">\n",
       "  <thead>\n",
       "    <tr style=\"text-align: left;\">\n",
       "      <th>epoch</th>\n",
       "      <th>train_loss</th>\n",
       "      <th>valid_loss</th>\n",
       "      <th>accuracy</th>\n",
       "      <th>time</th>\n",
       "    </tr>\n",
       "  </thead>\n",
       "  <tbody>\n",
       "    <tr>\n",
       "      <td>0</td>\n",
       "      <td>0.202637</td>\n",
       "      <td>0.169201</td>\n",
       "      <td>0.936920</td>\n",
       "      <td>03:22</td>\n",
       "    </tr>\n",
       "  </tbody>\n",
       "</table>"
      ],
      "text/plain": [
       "<IPython.core.display.HTML object>"
      ]
     },
     "metadata": {},
     "output_type": "display_data"
    }
   ],
   "source": [
    "# Unfreezing more\n",
    "learn.freeze_to(-3)\n",
    "learn.fit_one_cycle(1, slice(5e-3/(2.6**4), 5e-3))"
   ]
  },
  {
   "cell_type": "code",
   "execution_count": 27,
   "id": "16a82972",
   "metadata": {
    "execution": {
     "iopub.execute_input": "2024-02-14T05:52:28.740439Z",
     "iopub.status.busy": "2024-02-14T05:52:28.740065Z",
     "iopub.status.idle": "2024-02-14T05:56:35.982211Z",
     "shell.execute_reply": "2024-02-14T05:56:35.981276Z"
    },
    "papermill": {
     "duration": 247.262594,
     "end_time": "2024-02-14T05:56:35.984271",
     "exception": false,
     "start_time": "2024-02-14T05:52:28.721677",
     "status": "completed"
    },
    "tags": []
   },
   "outputs": [
    {
     "data": {
      "text/html": [
       "\n",
       "<style>\n",
       "    /* Turns off some styling */\n",
       "    progress {\n",
       "        /* gets rid of default border in Firefox and Opera. */\n",
       "        border: none;\n",
       "        /* Needs to be in here for Safari polyfill so background images work as expected. */\n",
       "        background-size: auto;\n",
       "    }\n",
       "    progress:not([value]), progress:not([value])::-webkit-progress-bar {\n",
       "        background: repeating-linear-gradient(45deg, #7e7e7e, #7e7e7e 10px, #5c5c5c 10px, #5c5c5c 20px);\n",
       "    }\n",
       "    .progress-bar-interrupted, .progress-bar-interrupted::-webkit-progress-bar {\n",
       "        background: #F44336;\n",
       "    }\n",
       "</style>\n"
      ],
      "text/plain": [
       "<IPython.core.display.HTML object>"
      ]
     },
     "metadata": {},
     "output_type": "display_data"
    },
    {
     "data": {
      "text/html": [
       "<table border=\"1\" class=\"dataframe\">\n",
       "  <thead>\n",
       "    <tr style=\"text-align: left;\">\n",
       "      <th>epoch</th>\n",
       "      <th>train_loss</th>\n",
       "      <th>valid_loss</th>\n",
       "      <th>accuracy</th>\n",
       "      <th>time</th>\n",
       "    </tr>\n",
       "  </thead>\n",
       "  <tbody>\n",
       "    <tr>\n",
       "      <td>0</td>\n",
       "      <td>0.170342</td>\n",
       "      <td>0.164861</td>\n",
       "      <td>0.938320</td>\n",
       "      <td>04:07</td>\n",
       "    </tr>\n",
       "  </tbody>\n",
       "</table>"
      ],
      "text/plain": [
       "<IPython.core.display.HTML object>"
      ]
     },
     "metadata": {},
     "output_type": "display_data"
    }
   ],
   "source": [
    "# Unfreeze all\n",
    "learn.unfreeze()\n",
    "learn.fit_one_cycle(1, slice(1e-3/(2.6**4), 1e-3))"
   ]
  },
  {
   "cell_type": "markdown",
   "id": "7760d5c8",
   "metadata": {
    "papermill": {
     "duration": 0.016916,
     "end_time": "2024-02-14T05:56:36.018905",
     "exception": false,
     "start_time": "2024-02-14T05:56:36.001989",
     "status": "completed"
    },
    "tags": []
   },
   "source": [
    "## Predicting the sentiment (classification) "
   ]
  },
  {
   "cell_type": "code",
   "execution_count": 28,
   "id": "a200ad17",
   "metadata": {
    "execution": {
     "iopub.execute_input": "2024-02-14T05:56:36.055975Z",
     "iopub.status.busy": "2024-02-14T05:56:36.055044Z",
     "iopub.status.idle": "2024-02-14T05:56:36.097326Z",
     "shell.execute_reply": "2024-02-14T05:56:36.096439Z"
    },
    "papermill": {
     "duration": 0.063324,
     "end_time": "2024-02-14T05:56:36.099338",
     "exception": false,
     "start_time": "2024-02-14T05:56:36.036014",
     "status": "completed"
    },
    "tags": []
   },
   "outputs": [
    {
     "data": {
      "text/html": [
       "\n",
       "<style>\n",
       "    /* Turns off some styling */\n",
       "    progress {\n",
       "        /* gets rid of default border in Firefox and Opera. */\n",
       "        border: none;\n",
       "        /* Needs to be in here for Safari polyfill so background images work as expected. */\n",
       "        background-size: auto;\n",
       "    }\n",
       "    progress:not([value]), progress:not([value])::-webkit-progress-bar {\n",
       "        background: repeating-linear-gradient(45deg, #7e7e7e, #7e7e7e 10px, #5c5c5c 10px, #5c5c5c 20px);\n",
       "    }\n",
       "    .progress-bar-interrupted, .progress-bar-interrupted::-webkit-progress-bar {\n",
       "        background: #F44336;\n",
       "    }\n",
       "</style>\n"
      ],
      "text/plain": [
       "<IPython.core.display.HTML object>"
      ]
     },
     "metadata": {},
     "output_type": "display_data"
    },
    {
     "data": {
      "text/html": [],
      "text/plain": [
       "<IPython.core.display.HTML object>"
      ]
     },
     "metadata": {},
     "output_type": "display_data"
    },
    {
     "data": {
      "text/plain": [
       "('pos', tensor(1), tensor([0.0995, 0.9005]))"
      ]
     },
     "execution_count": 28,
     "metadata": {},
     "output_type": "execute_result"
    }
   ],
   "source": [
    "learn.predict('I really didn\\'t like the movie')"
   ]
  },
  {
   "cell_type": "code",
   "execution_count": 29,
   "id": "0ff08551",
   "metadata": {
    "execution": {
     "iopub.execute_input": "2024-02-14T05:56:36.136255Z",
     "iopub.status.busy": "2024-02-14T05:56:36.135924Z",
     "iopub.status.idle": "2024-02-14T05:56:36.174552Z",
     "shell.execute_reply": "2024-02-14T05:56:36.173730Z"
    },
    "papermill": {
     "duration": 0.059195,
     "end_time": "2024-02-14T05:56:36.176391",
     "exception": false,
     "start_time": "2024-02-14T05:56:36.117196",
     "status": "completed"
    },
    "tags": []
   },
   "outputs": [
    {
     "data": {
      "text/html": [
       "\n",
       "<style>\n",
       "    /* Turns off some styling */\n",
       "    progress {\n",
       "        /* gets rid of default border in Firefox and Opera. */\n",
       "        border: none;\n",
       "        /* Needs to be in here for Safari polyfill so background images work as expected. */\n",
       "        background-size: auto;\n",
       "    }\n",
       "    progress:not([value]), progress:not([value])::-webkit-progress-bar {\n",
       "        background: repeating-linear-gradient(45deg, #7e7e7e, #7e7e7e 10px, #5c5c5c 10px, #5c5c5c 20px);\n",
       "    }\n",
       "    .progress-bar-interrupted, .progress-bar-interrupted::-webkit-progress-bar {\n",
       "        background: #F44336;\n",
       "    }\n",
       "</style>\n"
      ],
      "text/plain": [
       "<IPython.core.display.HTML object>"
      ]
     },
     "metadata": {},
     "output_type": "display_data"
    },
    {
     "data": {
      "text/html": [],
      "text/plain": [
       "<IPython.core.display.HTML object>"
      ]
     },
     "metadata": {},
     "output_type": "display_data"
    },
    {
     "data": {
      "text/plain": [
       "('pos', tensor(1), tensor([0.2946, 0.7054]))"
      ]
     },
     "execution_count": 29,
     "metadata": {},
     "output_type": "execute_result"
    }
   ],
   "source": [
    "learn.predict('I think the movie was boring')"
   ]
  },
  {
   "cell_type": "code",
   "execution_count": 30,
   "id": "a28c423f",
   "metadata": {
    "execution": {
     "iopub.execute_input": "2024-02-14T05:56:36.214292Z",
     "iopub.status.busy": "2024-02-14T05:56:36.213586Z",
     "iopub.status.idle": "2024-02-14T05:56:36.250230Z",
     "shell.execute_reply": "2024-02-14T05:56:36.249413Z"
    },
    "papermill": {
     "duration": 0.057516,
     "end_time": "2024-02-14T05:56:36.252089",
     "exception": false,
     "start_time": "2024-02-14T05:56:36.194573",
     "status": "completed"
    },
    "tags": []
   },
   "outputs": [
    {
     "data": {
      "text/html": [
       "\n",
       "<style>\n",
       "    /* Turns off some styling */\n",
       "    progress {\n",
       "        /* gets rid of default border in Firefox and Opera. */\n",
       "        border: none;\n",
       "        /* Needs to be in here for Safari polyfill so background images work as expected. */\n",
       "        background-size: auto;\n",
       "    }\n",
       "    progress:not([value]), progress:not([value])::-webkit-progress-bar {\n",
       "        background: repeating-linear-gradient(45deg, #7e7e7e, #7e7e7e 10px, #5c5c5c 10px, #5c5c5c 20px);\n",
       "    }\n",
       "    .progress-bar-interrupted, .progress-bar-interrupted::-webkit-progress-bar {\n",
       "        background: #F44336;\n",
       "    }\n",
       "</style>\n"
      ],
      "text/plain": [
       "<IPython.core.display.HTML object>"
      ]
     },
     "metadata": {},
     "output_type": "display_data"
    },
    {
     "data": {
      "text/html": [],
      "text/plain": [
       "<IPython.core.display.HTML object>"
      ]
     },
     "metadata": {},
     "output_type": "display_data"
    },
    {
     "data": {
      "text/plain": [
       "('neg', tensor(0), tensor([0.5161, 0.4839]))"
      ]
     },
     "execution_count": 30,
     "metadata": {},
     "output_type": "execute_result"
    }
   ],
   "source": [
    "learn.predict('I feel that movie could have been wrote better')"
   ]
  },
  {
   "cell_type": "code",
   "execution_count": 31,
   "id": "7df45a79",
   "metadata": {
    "execution": {
     "iopub.execute_input": "2024-02-14T05:56:36.290742Z",
     "iopub.status.busy": "2024-02-14T05:56:36.290084Z",
     "iopub.status.idle": "2024-02-14T05:56:36.325837Z",
     "shell.execute_reply": "2024-02-14T05:56:36.325054Z"
    },
    "papermill": {
     "duration": 0.057135,
     "end_time": "2024-02-14T05:56:36.327931",
     "exception": false,
     "start_time": "2024-02-14T05:56:36.270796",
     "status": "completed"
    },
    "tags": []
   },
   "outputs": [
    {
     "data": {
      "text/html": [
       "\n",
       "<style>\n",
       "    /* Turns off some styling */\n",
       "    progress {\n",
       "        /* gets rid of default border in Firefox and Opera. */\n",
       "        border: none;\n",
       "        /* Needs to be in here for Safari polyfill so background images work as expected. */\n",
       "        background-size: auto;\n",
       "    }\n",
       "    progress:not([value]), progress:not([value])::-webkit-progress-bar {\n",
       "        background: repeating-linear-gradient(45deg, #7e7e7e, #7e7e7e 10px, #5c5c5c 10px, #5c5c5c 20px);\n",
       "    }\n",
       "    .progress-bar-interrupted, .progress-bar-interrupted::-webkit-progress-bar {\n",
       "        background: #F44336;\n",
       "    }\n",
       "</style>\n"
      ],
      "text/plain": [
       "<IPython.core.display.HTML object>"
      ]
     },
     "metadata": {},
     "output_type": "display_data"
    },
    {
     "data": {
      "text/html": [],
      "text/plain": [
       "<IPython.core.display.HTML object>"
      ]
     },
     "metadata": {},
     "output_type": "display_data"
    },
    {
     "data": {
      "text/plain": [
       "('pos', tensor(1), tensor([8.2578e-05, 9.9992e-01]))"
      ]
     },
     "execution_count": 31,
     "metadata": {},
     "output_type": "execute_result"
    }
   ],
   "source": [
    "learn.predict('I loved the movie!')"
   ]
  }
 ],
 "metadata": {
  "kaggle": {
   "accelerator": "gpu",
   "dataSources": [],
   "dockerImageVersionId": 30648,
   "isGpuEnabled": true,
   "isInternetEnabled": true,
   "language": "python",
   "sourceType": "notebook"
  },
  "kernelspec": {
   "display_name": "Python 3",
   "language": "python",
   "name": "python3"
  },
  "language_info": {
   "codemirror_mode": {
    "name": "ipython",
    "version": 3
   },
   "file_extension": ".py",
   "mimetype": "text/x-python",
   "name": "python",
   "nbconvert_exporter": "python",
   "pygments_lexer": "ipython3",
   "version": "3.10.13"
  },
  "papermill": {
   "default_parameters": {},
   "duration": 6475.813097,
   "end_time": "2024-02-14T05:56:39.158398",
   "environment_variables": {},
   "exception": null,
   "input_path": "__notebook__.ipynb",
   "output_path": "__notebook__.ipynb",
   "parameters": {},
   "start_time": "2024-02-14T04:08:43.345301",
   "version": "2.5.0"
  }
 },
 "nbformat": 4,
 "nbformat_minor": 5
}
